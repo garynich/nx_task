{
 "cells": [
  {
   "cell_type": "markdown",
   "metadata": {},
   "source": [
    "# Импорт данных. "
   ]
  },
  {
   "cell_type": "code",
   "execution_count": 1,
   "metadata": {},
   "outputs": [
    {
     "data": {
      "text/html": [
       "<div>\n",
       "<style scoped>\n",
       "    .dataframe tbody tr th:only-of-type {\n",
       "        vertical-align: middle;\n",
       "    }\n",
       "\n",
       "    .dataframe tbody tr th {\n",
       "        vertical-align: top;\n",
       "    }\n",
       "\n",
       "    .dataframe thead th {\n",
       "        text-align: right;\n",
       "    }\n",
       "</style>\n",
       "<table border=\"1\" class=\"dataframe\">\n",
       "  <thead>\n",
       "    <tr style=\"text-align: right;\">\n",
       "      <th></th>\n",
       "      <th>ARPU_before_update</th>\n",
       "      <th>ARPU_after_update</th>\n",
       "    </tr>\n",
       "  </thead>\n",
       "  <tbody>\n",
       "    <tr>\n",
       "      <th>0</th>\n",
       "      <td>5.66</td>\n",
       "      <td>11.73</td>\n",
       "    </tr>\n",
       "    <tr>\n",
       "      <th>1</th>\n",
       "      <td>11.06</td>\n",
       "      <td>11.21</td>\n",
       "    </tr>\n",
       "    <tr>\n",
       "      <th>2</th>\n",
       "      <td>0.95</td>\n",
       "      <td>1.43</td>\n",
       "    </tr>\n",
       "    <tr>\n",
       "      <th>3</th>\n",
       "      <td>4.89</td>\n",
       "      <td>9.22</td>\n",
       "    </tr>\n",
       "    <tr>\n",
       "      <th>4</th>\n",
       "      <td>11.15</td>\n",
       "      <td>14.40</td>\n",
       "    </tr>\n",
       "    <tr>\n",
       "      <th>5</th>\n",
       "      <td>9.07</td>\n",
       "      <td>15.77</td>\n",
       "    </tr>\n",
       "    <tr>\n",
       "      <th>6</th>\n",
       "      <td>17.70</td>\n",
       "      <td>13.59</td>\n",
       "    </tr>\n",
       "    <tr>\n",
       "      <th>7</th>\n",
       "      <td>14.30</td>\n",
       "      <td>10.20</td>\n",
       "    </tr>\n",
       "    <tr>\n",
       "      <th>8</th>\n",
       "      <td>10.99</td>\n",
       "      <td>18.10</td>\n",
       "    </tr>\n",
       "    <tr>\n",
       "      <th>9</th>\n",
       "      <td>8.60</td>\n",
       "      <td>11.66</td>\n",
       "    </tr>\n",
       "    <tr>\n",
       "      <th>10</th>\n",
       "      <td>2.19</td>\n",
       "      <td>9.67</td>\n",
       "    </tr>\n",
       "    <tr>\n",
       "      <th>11</th>\n",
       "      <td>3.43</td>\n",
       "      <td>18.08</td>\n",
       "    </tr>\n",
       "    <tr>\n",
       "      <th>12</th>\n",
       "      <td>6.76</td>\n",
       "      <td>19.14</td>\n",
       "    </tr>\n",
       "    <tr>\n",
       "      <th>13</th>\n",
       "      <td>14.10</td>\n",
       "      <td>10.18</td>\n",
       "    </tr>\n",
       "    <tr>\n",
       "      <th>14</th>\n",
       "      <td>16.78</td>\n",
       "      <td>10.25</td>\n",
       "    </tr>\n",
       "  </tbody>\n",
       "</table>\n",
       "</div>"
      ],
      "text/plain": [
       "    ARPU_before_update  ARPU_after_update\n",
       "0                 5.66              11.73\n",
       "1                11.06              11.21\n",
       "2                 0.95               1.43\n",
       "3                 4.89               9.22\n",
       "4                11.15              14.40\n",
       "5                 9.07              15.77\n",
       "6                17.70              13.59\n",
       "7                14.30              10.20\n",
       "8                10.99              18.10\n",
       "9                 8.60              11.66\n",
       "10                2.19               9.67\n",
       "11                3.43              18.08\n",
       "12                6.76              19.14\n",
       "13               14.10              10.18\n",
       "14               16.78              10.25"
      ]
     },
     "execution_count": 1,
     "metadata": {},
     "output_type": "execute_result"
    }
   ],
   "source": [
    "import pandas as pd\n",
    "\n",
    "data = pd.read_csv('/Users/garynich/Documents/NX Studio/NX_Studio_Analyst/test_task_arpu.csv')\n",
    "\n",
    "data"
   ]
  },
  {
   "cell_type": "markdown",
   "metadata": {},
   "source": [
    "# Визуализация данных"
   ]
  },
  {
   "cell_type": "code",
   "execution_count": 8,
   "metadata": {},
   "outputs": [
    {
     "data": {
      "text/plain": [
       "<matplotlib.legend.Legend at 0x1058cf5f8>"
      ]
     },
     "execution_count": 8,
     "metadata": {},
     "output_type": "execute_result"
    },
    {
     "data": {
      "image/png": "[encoded data removed]",
      "text/plain": [
       "<Figure size 720x360 with 1 Axes>"
      ]
     },
     "metadata": {
      "needs_background": "light"
     },
     "output_type": "display_data"
    }
   ],
   "source": [
    "import matplotlib.pyplot as plt\n",
    "\n",
    "cummulativeRevenueA = data['ARPU_before_update']\n",
    "cummulativeRevenueB = data['ARPU_after_update']\n",
    "\n",
    "\n",
    "plt.figure(figsize=(10,5))\n",
    "plt.xticks(fontsize=14, rotation='vertical')\n",
    "plt.margins(0.01)\n",
    "plt.grid(True)\n",
    "\n",
    "# Строим график выручки группы А\n",
    "plt.plot(data.index, data['ARPU_before_update'], label='A')\n",
    "\n",
    "# Строим график выручки группы B\n",
    "plt.plot(data.index, data['ARPU_after_update'], label='B')\n",
    "\n",
    "plt.legend()"
   ]
  },
  {
   "cell_type": "markdown",
   "metadata": {},
   "source": [
    "# Статистическая проверка данных"
   ]
  },
  {
   "cell_type": "markdown",
   "metadata": {},
   "source": [
    "Учитывая малый размер выборки, а также тот факт, что мы оцениваем различия между двумя независимыми выборками, мы будем использовать критерий Манна-Уитни. Проверку статистической значимости мы будем выполнять с помощью библиотеки scipy.stats.\n",
    "\n",
    "Для проверки нам необходимо указать p-value. В данном тесте считаю необходимым установить alpha = 0.5. P-value - это наименьшая величина уровня значимости, при которой нулевая гипотеза отвергается для данного значения статистики критерия. \n",
    "\n",
    "Формируем нулевую гипотезу: ARPU в группах А (до внесения изменений) и Б (после внесения изменений) равны."
   ]
  },
  {
   "cell_type": "code",
   "execution_count": 9,
   "metadata": {},
   "outputs": [
    {
     "name": "stdout",
     "output_type": "stream",
     "text": [
      "Нулевая гипотеза: ARPU в группах А и Б равны!\n",
      "\n",
      "p-value =  0.037\n",
      "\n",
      "Отвергаем нулевую гипотезу\n"
     ]
    }
   ],
   "source": [
    "import scipy.stats as stats\n",
    "\n",
    "print('Нулевая гипотеза: ARPU в группах А и Б равны!')\n",
    "print()\n",
    "print('p-value = ', \"{0:.3f}\".format(stats.mannwhitneyu(data['ARPU_before_update'], data['ARPU_after_update'])[1]))\n",
    "print()\n",
    "\n",
    "alpha = 0.05\n",
    "if ((stats.mannwhitneyu(data['ARPU_before_update'], data['ARPU_after_update'])[1]) < alpha):\n",
    "    print(\"Отвергаем нулевую гипотезу\")\n",
    "else:\n",
    "    print(\"Не получилось отвергнуть нулевую гипотезу\")"
   ]
  },
  {
   "cell_type": "code",
   "execution_count": 14,
   "metadata": {},
   "outputs": [
    {
     "name": "stdout",
     "output_type": "stream",
     "text": [
      "\n",
      "1.341\n",
      "\n",
      "Группа Б имеет прирост в конверсии.\n"
     ]
    }
   ],
   "source": [
    "\n",
    "print()\n",
    "print(\"{0:.3f}\".format(data['ARPU_after_update'].mean()/data['ARPU_before_update'].mean()))\n",
    "print()\n",
    "print('Группа Б имеет прирост в конверсии.')"
   ]
  },
  {
   "cell_type": "markdown",
   "metadata": {},
   "source": [
    "# Выводы:\n",
    "\n",
    "     На основании проведенных статистических тестов можно утверждать, что апдейт был успешен, ARPU вырос."
   ]
  }
 ],
 "metadata": {
  "kernelspec": {
   "display_name": "Python 3",
   "language": "python",
   "name": "python3"
  },
  "language_info": {
   "codemirror_mode": {
    "name": "ipython",
    "version": 3
   },
   "file_extension": ".py",
   "mimetype": "text/x-python",
   "name": "python",
   "nbconvert_exporter": "python",
   "pygments_lexer": "ipython3",
   "version": "3.7.3"
  }
 },
 "nbformat": 4,
 "nbformat_minor": 2
}
